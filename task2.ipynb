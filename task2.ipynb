{
 "cells": [
  {
   "cell_type": "code",
   "execution_count": 1,
   "id": "e5acce5e-4077-47e8-863f-c3ef83cd983a",
   "metadata": {},
   "outputs": [],
   "source": [
    "# Python script to scrape an article given the url of the article and store the extracted text in a file\n",
    "# Url: https://medium.com/@subashgandyer/papa-what-is-a-neural-network-c5e5cc427c7bb"
   ]
  },
  {
   "cell_type": "code",
   "execution_count": 2,
   "id": "6e8f7ba4-3278-465f-a33b-494e7bbd9c7e",
   "metadata": {},
   "outputs": [],
   "source": [
    "import os\n",
    "import requests\n",
    "import re\n",
    "import sys"
   ]
  },
  {
   "cell_type": "code",
   "execution_count": 3,
   "id": "705df9c1-d8f0-4a56-8e76-5fd60a220380",
   "metadata": {},
   "outputs": [],
   "source": [
    "# Code here - Import BeautifulSoup library\n",
    "from bs4 import BeautifulSoup\n",
    "# Code ends here"
   ]
  },
  {
   "cell_type": "code",
   "execution_count": 4,
   "id": "cb60b295-f8e6-4695-bddd-56076e5f8364",
   "metadata": {},
   "outputs": [],
   "source": [
    "# function to get the html source text of the medium article\n",
    "def get_page():\n",
    "\tglobal url\n",
    "\t\n",
    "\t# Code here - Ask the user to input \"Enter url of a medium article: \" and collect it in url\n",
    "\turl = input(\"Enter url of a medium article: \")\n",
    "\t# Code ends here\n",
    "\t\n",
    "\t# handling possible error\n",
    "\tif not re.match(r'https?://medium.com/',url):\n",
    "\t\tprint('Please enter a valid website, or make sure it is a medium article')\n",
    "\t\tsys.exit(1)\n",
    "\n",
    "\t# Code here - Call get method in requests object, pass url and collect it in res\n",
    "\tres = requests.get(url)\n",
    "\t# Code ends here\n",
    "\n",
    "\tres.raise_for_status()\n",
    "\tsoup = BeautifulSoup(res.text, 'html.parser')\n",
    "\treturn soup"
   ]
  },
  {
   "cell_type": "code",
   "execution_count": 5,
   "id": "0639ca83-6237-404a-8903-63687cd53cc8",
   "metadata": {},
   "outputs": [],
   "source": [
    "# function to remove all the html tags and replace some with specific strings\n",
    "def clean(text):\n",
    "    rep = {\"<br>\": \"\\n\", \"<br/>\": \"\\n\", \"<li>\":  \"\\n\"}\n",
    "    rep = dict((re.escape(k), v) for k, v in rep.items()) \n",
    "    pattern = re.compile(\"|\".join(rep.keys()))\n",
    "    text = pattern.sub(lambda m: rep[re.escape(m.group(0))], text)\n",
    "    text = re.sub('\\<(.*?)\\>', '', text)\n",
    "    return text"
   ]
  },
  {
   "cell_type": "code",
   "execution_count": 6,
   "id": "36d54096-a30f-434c-844a-28391c77c81b",
   "metadata": {},
   "outputs": [],
   "source": [
    "def collect_text(soup):\n",
    "\ttext = f'url: {url}\\n\\n'\n",
    "\tpara_text = soup.find_all('p')\n",
    "\tprint(f\"paragraphs text = \\n {para_text}\")\n",
    "\tfor para in para_text:\n",
    "\t\ttext += f\"{para.text}\\n\\n\"\n",
    "\treturn text"
   ]
  },
  {
   "cell_type": "code",
   "execution_count": 7,
   "id": "d36ebbfe-1bdc-4415-8552-dd7dd73d73a2",
   "metadata": {},
   "outputs": [],
   "source": [
    "# function to save file in the current directory\n",
    "def save_file(text):\n",
    "\tif not os.path.exists('./scraped_articles'):\n",
    "\t\tos.mkdir('./scraped_articles')\n",
    "\tname = url.split(\"/\")[-1]\n",
    "\tprint(name)\n",
    "\tfname = f'scraped_articles/{name}.txt'\n",
    "\t\n",
    "\t# Code here - write a file using with (2 lines)\n",
    "\twith open(fname, 'w') as f:\n",
    "\t\tf.write(text)\n",
    "\t# Code ends here\n",
    "\n",
    "\tprint(f'File saved in directory {fname}')"
   ]
  },
  {
   "cell_type": "code",
   "execution_count": 8,
   "id": "d1bfa742-624d-4544-8dfb-18f6d8d4d929",
   "metadata": {
    "scrolled": true
   },
   "outputs": [
    {
     "name": "stdin",
     "output_type": "stream",
     "text": [
      "Enter url of a medium article:  https://medium.com/@subashgandyer/papa-what-is-a-neural-network-c5e5cc427c7bb\n"
     ]
    },
    {
     "name": "stdout",
     "output_type": "stream",
     "text": [
      "paragraphs text = \n",
      " [<p class=\"be b dw dx dy dz ea eb ec ed ee ef dt\"><span><button class=\"be b dw dx eg dy dz eh ea eb ei ec ed ej ee ef ek el em eo ep eq er es et eu ev ew ex ey ez fa bl fb fc\" data-testid=\"headerSignUpButton\">Sign up</button></span></p>, <p class=\"be b dw dx dy dz ea eb ec ed ee ef dt\"><span><a class=\"af ag ah ai aj ak al am an ao ap aq ar as at\" data-testid=\"headerSignInButton\" href=\"/m/signin?operation=login&amp;redirect=https%3A%2F%2Fmedium.com%2F%40subashgandyer%2Fpapa-what-is-a-neural-network-c5e5cc427c7bb&amp;source=post_page---two_column_layout_nav-----------------------global_nav-----------\" rel=\"noopener follow\">Sign in</a></span></p>, <p class=\"be b dw dx dy dz ea eb ec ed ee ef dt\"><span><button class=\"be b dw dx eg dy dz eh ea eb ei ec ed ej ee ef ek el em eo ep eq er es et eu ev ew ex ey ez fa bl fb fc\" data-testid=\"headerSignUpButton\">Sign up</button></span></p>, <p class=\"be b dw dx dy dz ea eb ec ed ee ef dt\"><span><a class=\"af ag ah ai aj ak al am an ao ap aq ar as at\" data-testid=\"headerSignInButton\" href=\"/m/signin?operation=login&amp;redirect=https%3A%2F%2Fmedium.com%2F%40subashgandyer%2Fpapa-what-is-a-neural-network-c5e5cc427c7bb&amp;source=post_page---two_column_layout_nav-----------------------global_nav-----------\" rel=\"noopener follow\">Sign in</a></span></p>, <p class=\"be b bf z dt\">Member-only</p>, <p class=\"be b bf z dt\">Member-only</p>, <p class=\"be b bf z dt\">Member-only</p>, <p class=\"be b bf z dt\">Member-only</p>]\n",
      "papa-what-is-a-neural-network-c5e5cc427c7bb\n",
      "File saved in directory scraped_articles/papa-what-is-a-neural-network-c5e5cc427c7bb.txt\n"
     ]
    }
   ],
   "source": [
    "if __name__ == '__main__':\n",
    "\ttext = collect_text(get_page())\n",
    "\tsave_file(text)\n",
    "\t# Instructions to Run this python code\n",
    "\t# Give url as https://medium.com/@subashgandyer/papa-what-is-a-neural-network-c5e5cc427c7"
   ]
  },
  {
   "cell_type": "code",
   "execution_count": null,
   "id": "d4ee7d92-6322-4f3d-befa-af46fb5dda31",
   "metadata": {},
   "outputs": [],
   "source": []
  }
 ],
 "metadata": {
  "kernelspec": {
   "display_name": "Python 3 (ipykernel)",
   "language": "python",
   "name": "python3"
  },
  "language_info": {
   "codemirror_mode": {
    "name": "ipython",
    "version": 3
   },
   "file_extension": ".py",
   "mimetype": "text/x-python",
   "name": "python",
   "nbconvert_exporter": "python",
   "pygments_lexer": "ipython3",
   "version": "3.11.5"
  }
 },
 "nbformat": 4,
 "nbformat_minor": 5
}
